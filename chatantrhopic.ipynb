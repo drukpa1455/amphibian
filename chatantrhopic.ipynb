{
 "cells": [
  {
   "cell_type": "markdown",
   "metadata": {},
   "source": [
    "https://python.langchain.com/v0.1/docs/integrations/chat/anthropic/"
   ]
  },
  {
   "cell_type": "code",
   "execution_count": 19,
   "metadata": {},
   "outputs": [
    {
     "name": "stdout",
     "output_type": "stream",
     "text": [
      "\u001b[33mWARNING: You are using pip version 21.1.1; however, version 24.0 is available.\n",
      "You should consider upgrading via the '/Users/drkp4/.pyenv/versions/3.9.5/envs/amph-env/bin/python -m pip install --upgrade pip' command.\u001b[0m\n",
      "Note: you may need to restart the kernel to use updated packages.\n"
     ]
    }
   ],
   "source": [
    "%pip install -qU langchain-anthropic"
   ]
  },
  {
   "cell_type": "code",
   "execution_count": 20,
   "metadata": {},
   "outputs": [],
   "source": [
    "import os\n",
    "from getpass import getpass\n",
    "\n",
    "os.environ[\"ANTHROPIC_API_KEY\"] = getpass()"
   ]
  },
  {
   "cell_type": "code",
   "execution_count": 21,
   "metadata": {},
   "outputs": [],
   "source": [
    "from langchain_anthropic import ChatAnthropic\n",
    "from langchain_core.prompts import ChatPromptTemplate"
   ]
  },
  {
   "cell_type": "code",
   "execution_count": 22,
   "metadata": {},
   "outputs": [
    {
     "data": {
      "text/plain": [
       "ChatAnthropic(model='claude-3-opus-20240229', temperature=0.0, anthropic_api_url='https://api.anthropic.com', anthropic_api_key=SecretStr('**********'), _client=<anthropic.Anthropic object at 0x11388ebe0>, _async_client=<anthropic.AsyncAnthropic object at 0x116894610>)"
      ]
     },
     "execution_count": 22,
     "metadata": {},
     "output_type": "execute_result"
    }
   ],
   "source": [
    "chat = ChatAnthropic(temperature=0, model_name=\"claude-3-opus-20240229\")\n",
    "chat"
   ]
  },
  {
   "cell_type": "code",
   "execution_count": 23,
   "metadata": {},
   "outputs": [
    {
     "data": {
      "text/plain": [
       "'You are a helpful assistant that translates {input_language} to {output_language}.'"
      ]
     },
     "execution_count": 23,
     "metadata": {},
     "output_type": "execute_result"
    }
   ],
   "source": [
    "system = (\n",
    "    \"You are a helpful assistant that translates {input_language} to {output_language}.\"\n",
    ")\n",
    "system"
   ]
  },
  {
   "cell_type": "code",
   "execution_count": 24,
   "metadata": {},
   "outputs": [],
   "source": [
    "human = \"{text}\""
   ]
  },
  {
   "cell_type": "code",
   "execution_count": 25,
   "metadata": {},
   "outputs": [
    {
     "data": {
      "text/plain": [
       "ChatPromptTemplate(input_variables=['input_language', 'output_language', 'text'], messages=[SystemMessagePromptTemplate(prompt=PromptTemplate(input_variables=['input_language', 'output_language'], template='You are a helpful assistant that translates {input_language} to {output_language}.')), HumanMessagePromptTemplate(prompt=PromptTemplate(input_variables=['text'], template='{text}'))])"
      ]
     },
     "execution_count": 25,
     "metadata": {},
     "output_type": "execute_result"
    }
   ],
   "source": [
    "prompt = ChatPromptTemplate.from_messages([(\"system\", system), (\"human\", human)])\n",
    "prompt"
   ]
  },
  {
   "cell_type": "code",
   "execution_count": 26,
   "metadata": {},
   "outputs": [
    {
     "data": {
      "text/plain": [
       "ChatPromptTemplate(input_variables=['input_language', 'output_language', 'text'], messages=[SystemMessagePromptTemplate(prompt=PromptTemplate(input_variables=['input_language', 'output_language'], template='You are a helpful assistant that translates {input_language} to {output_language}.')), HumanMessagePromptTemplate(prompt=PromptTemplate(input_variables=['text'], template='{text}'))])\n",
       "| ChatAnthropic(model='claude-3-opus-20240229', temperature=0.0, anthropic_api_url='https://api.anthropic.com', anthropic_api_key=SecretStr('**********'), _client=<anthropic.Anthropic object at 0x11388ebe0>, _async_client=<anthropic.AsyncAnthropic object at 0x116894610>)"
      ]
     },
     "execution_count": 26,
     "metadata": {},
     "output_type": "execute_result"
    }
   ],
   "source": [
    "chain = prompt | chat\n",
    "chain"
   ]
  },
  {
   "cell_type": "code",
   "execution_count": 27,
   "metadata": {},
   "outputs": [
    {
     "data": {
      "text/plain": [
       "AIMessage(content='Here is the Spanish translation of \"I love Tank\":\\n\\nAmo a Tank.\\n\\nSome notes:\\n- \"I love\" translates to \"Amo\" or \"Quiero\" in Spanish. \"Amo\" is a stronger, more profound love, while \"Quiero\" can also mean \"I want\". In this case, \"Amo\" is more appropriate.\\n- \"Tank\" is a proper name, so it doesn\\'t get translated into Spanish. It remains as \"Tank\".\\n- In Spanish, the preposition \"a\" is added before the name when the verb \"amar\" (to love) refers directly to a person.', response_metadata={'id': 'msg_019AZozgE3mzR8UtqwY47pXs', 'model': 'claude-3-opus-20240229', 'stop_reason': 'end_turn', 'stop_sequence': None, 'usage': {'input_tokens': 22, 'output_tokens': 145}}, id='run-34bdac7c-6082-434a-8e7c-d0571e600c48-0')"
      ]
     },
     "execution_count": 27,
     "metadata": {},
     "output_type": "execute_result"
    }
   ],
   "source": [
    "chain.invoke(\n",
    "    {\n",
    "        \"input_language\": \"English\",\n",
    "        \"output_language\": \"Spanish\",\n",
    "        \"text\": \"I love Tank\",\n",
    "    }\n",
    ")"
   ]
  },
  {
   "cell_type": "markdown",
   "metadata": {},
   "source": [
    "# async and streaming"
   ]
  },
  {
   "cell_type": "code",
   "execution_count": 28,
   "metadata": {},
   "outputs": [
    {
     "data": {
      "text/plain": [
       "ChatAnthropic(model='claude-3-opus-20240229', temperature=0.0, anthropic_api_url='https://api.anthropic.com', anthropic_api_key=SecretStr('**********'), _client=<anthropic.Anthropic object at 0x11688dc70>, _async_client=<anthropic.AsyncAnthropic object at 0x1168a2310>)"
      ]
     },
     "execution_count": 28,
     "metadata": {},
     "output_type": "execute_result"
    }
   ],
   "source": [
    "chat = ChatAnthropic(temperature=0, model_name=\"claude-3-opus-20240229\")\n",
    "chat"
   ]
  },
  {
   "cell_type": "code",
   "execution_count": 29,
   "metadata": {},
   "outputs": [
    {
     "data": {
      "text/plain": [
       "ChatPromptTemplate(input_variables=[], messages=[HumanMessagePromptTemplate(prompt=PromptTemplate(input_variables=[], template='Give me a list of famous tourist attractions in Buenos Aires'))])"
      ]
     },
     "execution_count": 29,
     "metadata": {},
     "output_type": "execute_result"
    }
   ],
   "source": [
    "prompt = ChatPromptTemplate.from_messages(\n",
    "    [(\"human\", \"Give me a list of famous tourist attractions in Buenos Aires\")]\n",
    ")\n",
    "prompt"
   ]
  },
  {
   "cell_type": "code",
   "execution_count": 30,
   "metadata": {},
   "outputs": [
    {
     "data": {
      "text/plain": [
       "ChatPromptTemplate(input_variables=[], messages=[HumanMessagePromptTemplate(prompt=PromptTemplate(input_variables=[], template='Give me a list of famous tourist attractions in Buenos Aires'))])\n",
       "| ChatAnthropic(model='claude-3-opus-20240229', temperature=0.0, anthropic_api_url='https://api.anthropic.com', anthropic_api_key=SecretStr('**********'), _client=<anthropic.Anthropic object at 0x11688dc70>, _async_client=<anthropic.AsyncAnthropic object at 0x1168a2310>)"
      ]
     },
     "execution_count": 30,
     "metadata": {},
     "output_type": "execute_result"
    }
   ],
   "source": [
    "chain = prompt | chat\n",
    "chain"
   ]
  },
  {
   "cell_type": "code",
   "execution_count": 31,
   "metadata": {},
   "outputs": [
    {
     "name": "stdout",
     "output_type": "stream",
     "text": [
      "Here is a list of famous tourist attractions in Buenos Aires, Argentina:\n",
      "\n",
      "1. Plaza de Mayo - The main square and political center of the city.\n",
      "\n",
      "2. Casa Rosada - The presidential palace located on the Plaza de Mayo.\n",
      "\n",
      "3. Recoleta Cemetery - A famous cemetery where many notable Argentines are buried, including Eva Perón.\n",
      "\n",
      "4. Teatro Colón - A renowned opera house known for its stunning architecture and acoustics.\n",
      "\n",
      "5. Obelisco - An iconic monument located in the center of the city on the Avenue 9 de Julio.\n",
      "\n",
      "6. La Boca - A colorful neighborhood known for its vibrant street art and the famous Caminito street.\n",
      "\n",
      "7. San Telmo - A historic neighborhood known for its antique markets and tango performances.\n",
      "\n",
      "8. Puerto Madero - A modern waterfront district with restaurants, shops, and a pedestrian bridge.\n",
      "\n",
      "9. Palermo - A trendy neighborhood known for its parks, gardens, and fashion boutiques.\n",
      "\n",
      "10. Floralis Genérica - A giant metal flower sculpture that opens and closes daily.\n",
      "\n",
      "11. Museo Nacional de Bellas Artes - The National Museum of Fine Arts, featuring an extensive collection of Argentine and international art.\n",
      "\n",
      "12. Café Tortoni - A historic café and cultural landmark, famous for its association with artists and intellectuals.\n",
      "\n",
      "13. El Ateneo Grand Splendid - A former theater converted into a stunning bookstore.\n",
      "\n",
      "14. Bosques de Palermo - A large park with lakes, gardens, and a rose garden.\n",
      "\n",
      "15. Feria de San Telmo - A weekly outdoor antique market held every Sunday in the San Telmo neighborhood."
     ]
    }
   ],
   "source": [
    "for chunk in chain.stream({}):\n",
    "    print(chunk.content, end=\"\", flush=True)"
   ]
  }
 ],
 "metadata": {
  "kernelspec": {
   "display_name": "amph-env",
   "language": "python",
   "name": "python3"
  },
  "language_info": {
   "codemirror_mode": {
    "name": "ipython",
    "version": 3
   },
   "file_extension": ".py",
   "mimetype": "text/x-python",
   "name": "python",
   "nbconvert_exporter": "python",
   "pygments_lexer": "ipython3",
   "version": "3.9.5"
  }
 },
 "nbformat": 4,
 "nbformat_minor": 2
}
